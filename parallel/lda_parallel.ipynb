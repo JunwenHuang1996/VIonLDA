{
 "cells": [
  {
   "cell_type": "code",
   "execution_count": 3,
   "metadata": {},
   "outputs": [
    {
     "name": "stdout",
     "output_type": "stream",
     "text": [
      "Process STDOUT and STDERR is being redirected to /tmp/raylogs/.\n",
      "Waiting for redis server at 127.0.0.1:23880 to respond...\n",
      "Waiting for redis server at 127.0.0.1:50040 to respond...\n",
      "Starting local scheduler with the following resources: {'CPU': 8, 'GPU': 0}.\n",
      "\n",
      "======================================================================\n",
      "View the web UI at http://localhost:8889/notebooks/ray_ui58088.ipynb?token=a427b773035bd347b2510f221252e41ccbe962a3304c644d\n",
      "======================================================================\n",
      "\n"
     ]
    },
    {
     "data": {
      "text/plain": [
       "{'local_scheduler_socket_names': ['/tmp/scheduler54127281'],\n",
       " 'node_ip_address': '127.0.0.1',\n",
       " 'object_store_addresses': [ObjectStoreAddress(name='/tmp/plasma_store42997752', manager_name='/tmp/plasma_manager45097496', manager_port=20170)],\n",
       " 'redis_address': '127.0.0.1:23880',\n",
       " 'webui_url': 'http://localhost:8889/notebooks/ray_ui58088.ipynb?token=a427b773035bd347b2510f221252e41ccbe962a3304c644d'}"
      ]
     },
     "execution_count": 3,
     "metadata": {},
     "output_type": "execute_result"
    }
   ],
   "source": [
    "import ray\n",
    "ray.init()"
   ]
  },
  {
   "cell_type": "code",
   "execution_count": 1,
   "metadata": {
    "collapsed": true
   },
   "outputs": [],
   "source": [
    "import numpy as np\n",
    "from scipy.special import digamma, polygamma\n",
    "import time"
   ]
  },
  {
   "cell_type": "code",
   "execution_count": null,
   "metadata": {},
   "outputs": [],
   "source": [
    "from VIonLDA import *"
   ]
  },
  {
   "cell_type": "code",
   "execution_count": 4,
   "metadata": {
    "collapsed": true
   },
   "outputs": [],
   "source": [
    "np.random.seed(123)\n",
    "docs, alpha, BETA=simulation_data()"
   ]
  },
  {
   "cell_type": "code",
   "execution_count": 7,
   "metadata": {
    "collapsed": true
   },
   "outputs": [],
   "source": [
    "@ray.remote\n",
    "def aggregate_data(x, y):\n",
    "    return x + y\n"
   ]
  },
  {
   "cell_type": "code",
   "execution_count": 8,
   "metadata": {
    "collapsed": true
   },
   "outputs": [],
   "source": [
    "def E_step(alpha, BETA, doc, Phi0, gamma0, tol=1e-6):\n",
    "    \"\"\"\n",
    "    Latent Dirichlet Allocation: E-step.\n",
    "    Do to a specific document.\n",
    "    ------------------------------------\n",
    "    Input:\n",
    "    alpha as a k*1 vector;\n",
    "    BETA as a k*V matrix;\n",
    "    doc as a Nd*V matrix;\n",
    "    Phi0 as a Nd*k matrix;\n",
    "    gamma0 as a k*1 vector;\n",
    "    tol as a float: tolerance.\n",
    "    -------------------------------------\n",
    "    Output:\n",
    "    optimal Nd*k matrix Phi;\n",
    "    optimal k*1 vector gamma.\"\"\"\n",
    "    \n",
    "    \n",
    "    #Initialization\n",
    "    Phi = Phi0\n",
    "    gamma = gamma0\n",
    "    phi_delta = 1\n",
    "    gamma_delta = 1\n",
    "    \n",
    "    #relative tolerance is for each element in the matrix\n",
    "    tol=tol**2\n",
    " \n",
    "\n",
    "    while(phi_delta > tol or gamma_delta > tol):\n",
    "        ##update Phi\n",
    "        Phi=(doc@BETA.T)*np.exp(digamma(gamma)-digamma(sum(gamma)))\n",
    "        Phi=Phi/(Phi.sum(axis=1)[:,None]) #row sum to 1        \n",
    "        ##update gamma\n",
    "        gamma = alpha + Phi.sum(axis = 0)        \n",
    "        ##check the convergence\n",
    "        phi_delta = np.mean((Phi - Phi0) ** 2)\n",
    "        gamma_delta = np.mean((gamma - gamma0) ** 2)        \n",
    "        ##refill\n",
    "        Phi0 = Phi\n",
    "        gamma0 = gamma\n",
    "        \n",
    "    return Phi, gamma"
   ]
  },
  {
   "cell_type": "code",
   "execution_count": 9,
   "metadata": {
    "collapsed": true
   },
   "outputs": [],
   "source": [
    "def M_step(docs,k, tol,tol_estep,max_iter=1000,initial_alpha_shape=5,initial_alpha_scale=2):\n",
    "    \"\"\"\n",
    "    Latent Dirichlet Allocation: M-step.\n",
    "    Do to a list of documnents. -- a list of matrix.\n",
    "    -------------------------------------------------\n",
    "    Input:\n",
    "    docs: a list of one-hot-coding matrix ;\n",
    "    k: a fixed positive integer indicate the number of topics.\n",
    "    -------------------------------------------------\n",
    "    Output:\n",
    "    optimal Nd*k matrix Phi;\n",
    "    optimal k*1 vector gamma;\n",
    "    optimal k*V matrix BETA;\n",
    "    optimal k*1 vector alpha.\n",
    "    \"\"\"\n",
    "    \n",
    "    #get basic iteration\n",
    "    M=len(docs)\n",
    "    V=docs[1].shape[1]\n",
    "    N=[doc.shape[0] for doc in docs]\n",
    "\n",
    "    \n",
    "    #initialization\n",
    "    BETA0=np.random.dirichlet(np.ones(V),k)\n",
    "    alpha0=np.random.gamma(shape=initial_alpha_shape,scale=initial_alpha_scale,size=k)\n",
    "    PHI=[np.ones((N[d],k))/k for d in range(M)]\n",
    "    GAMMA=np.array([alpha0+N[d]/k for d in range(M)])       \n",
    "    \n",
    "\n",
    "    BETA=BETA0\n",
    "    alpha=alpha0\n",
    "    alpha_dis = k\n",
    "    beta_dis = k*V\n",
    "    \n",
    "    #relative tolerance: tolerance for each element\n",
    "    tol=tol**2\n",
    "    \n",
    "    for iteration in range(max_iter):\n",
    "        #update PHI,GAMMA,BETA\n",
    "        @ray.remote\n",
    "        def E_step_(d):\n",
    "            Phi,gamma=E_step(alpha0, BETA0, docs[d],PHI[d],GAMMA[d,],tol_estep)\n",
    "            beta=Phi.T@docs[d]\n",
    "            return beta,gamma\n",
    "        \n",
    "        e_step_results = ray.get([E_step_.remote(d) for d in range(M)])\n",
    "        pre_BETA,GAMMA=map(list, zip(*e_step_results))\n",
    "        \n",
    "        while len(pre_BETA) > 1:\n",
    "            pre_BETA.append(aggregate_data.remote(pre_BETA.pop(0), pre_BETA.pop(0)))\n",
    "        BETA=ray.get(pre_BETA)[0]\n",
    "        \n",
    "        BETA=BETA/(BETA.sum(axis=1)[:,None])   #rowsum=1\n",
    "        GAMMA=np.array(GAMMA)\n",
    "        #update alpha\n",
    "                        \n",
    "        z = M * polygamma(1, sum(alpha0))\n",
    "        h=-M*polygamma(1,alpha0)\n",
    "        g=M*(digamma(sum(alpha0))-digamma(alpha0))+(digamma(GAMMA)-digamma(GAMMA.sum(axis=1))[:,None]).sum(axis=0)\n",
    "        c = (sum(g / h)) / (1/z + sum(1/h))\n",
    "        alpha = alpha0 - (g - c)/h\n",
    "        \n",
    "        alpha_dis = np.mean((alpha - alpha0) ** 2)\n",
    "        beta_dis = np.mean((BETA - BETA0) ** 2)\n",
    "        alpha0 = alpha\n",
    "        BETA0 = BETA\n",
    "        if((alpha_dis <= tol) and (beta_dis <= tol)):\n",
    "            break\n",
    "        \n",
    "        \n",
    "    return alpha, BETA"
   ]
  },
  {
   "cell_type": "code",
   "execution_count": 10,
   "metadata": {},
   "outputs": [
    {
     "name": "stdout",
     "output_type": "stream",
     "text": [
      "CPU times: user 40.5 s, sys: 24.2 s, total: 1min 4s\n",
      "Wall time: 11min 26s\n"
     ]
    }
   ],
   "source": [
    "%%time\n",
    "\n",
    "a2, B2 = M_step(docs=docs,k=10,tol=1e-3,tol_estep=1e-3,max_iter=100,initial_alpha_shape=100,initial_alpha_scale=0.01)"
   ]
  }
 ],
 "metadata": {
  "kernelspec": {
   "display_name": "Python 3",
   "language": "python",
   "name": "python3"
  },
  "language_info": {
   "codemirror_mode": {
    "name": "ipython",
    "version": 3
   },
   "file_extension": ".py",
   "mimetype": "text/x-python",
   "name": "python",
   "nbconvert_exporter": "python",
   "pygments_lexer": "ipython3",
   "version": "3.6.5"
  }
 },
 "nbformat": 4,
 "nbformat_minor": 2
}
