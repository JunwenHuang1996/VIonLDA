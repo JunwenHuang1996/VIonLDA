{
 "cells": [
  {
   "cell_type": "markdown",
   "metadata": {},
   "source": [
    "# Ideal Data Structure But Poor Behavior\n",
    "\n",
    "As we mentioned in the discussion, we design a version for ideal data structure. We implemented matrix multiplicaiton, vectorization and broadcast in this version. We can see the speed is super fast. However, the core idea that VI work is the Variational parameter $\\phi$, $\\gamma$ converge. (make the KL distance as small as possible to approximate the probability density) So if we break this rule, the algorithm cannot converge and even intractable. We can see with the same initialization, 10 times iteration, the time for this algorithm is only half of the vectorization version we adopt in the report. However, the mse is a factor of 0.1 to 0.01 in scale worse than the vectorization version. "
   ]
  },
  {
   "cell_type": "code",
   "execution_count": 3,
   "metadata": {
    "collapsed": true
   },
   "outputs": [],
   "source": [
    "import numpy as np\n",
    "from scipy.special import digamma, polygamma\n",
    "import time"
   ]
  },
  {
   "cell_type": "code",
   "execution_count": 4,
   "metadata": {
    "collapsed": true
   },
   "outputs": [],
   "source": [
    "def simulation_data(M=500,k=10,V=1000,xi=40,gamma_shape=2,gamma_scale=1):\n",
    "    \"\"\"Simulation the data according to LDA process. Return a list \n",
    "    of N_d*V matrix(one-hot-coding) with length M.\"\"\"\n",
    "    \n",
    "    res_list=[]   \n",
    "    \n",
    "    #hyperparameter\n",
    "    alpha = np.random.gamma(shape=gamma_shape,scale=gamma_scale,size=k)\n",
    "    BETA=np.random.dirichlet(np.ones(V),k)\n",
    "    \n",
    "    #document level\n",
    "    N=np.random.poisson(lam = (xi-1),size = M) + 1 #avoid 0 words\n",
    "    THETA=np.random.dirichlet(alpha,M)\n",
    "    \n",
    "    #word level\n",
    "    for d in range(M):\n",
    "        Z=np.random.multinomial(1,THETA[d,],N[d])\n",
    "        Temp=Z@BETA\n",
    "        W=np.zeros((N[d],V))\n",
    "        for n in range(N[d]):\n",
    "            W[n,]=np.random.multinomial(1, Temp[n,])\n",
    "        res_list.append(W)\n",
    "    return res_list, alpha, BETA"
   ]
  },
  {
   "cell_type": "code",
   "execution_count": 5,
   "metadata": {},
   "outputs": [],
   "source": [
    "np.random.seed(123)\n",
    "docs, alpha, BETA=simulation_data()"
   ]
  },
  {
   "cell_type": "code",
   "execution_count": 18,
   "metadata": {
    "collapsed": true
   },
   "outputs": [],
   "source": [
    "M=len(docs)\n",
    "V=docs[0].shape[1]"
   ]
  },
  {
   "cell_type": "code",
   "execution_count": 19,
   "metadata": {},
   "outputs": [],
   "source": [
    "docs_mat=np.zeros((M,V))\n",
    "for d in range(M):\n",
    "    docs_mat[d,]=docs[d].sum(axis=0)"
   ]
  },
  {
   "cell_type": "code",
   "execution_count": 20,
   "metadata": {},
   "outputs": [
    {
     "data": {
      "text/plain": [
       "(500, 1000)"
      ]
     },
     "execution_count": 20,
     "metadata": {},
     "output_type": "execute_result"
    }
   ],
   "source": [
    "docs_mat.shape"
   ]
  },
  {
   "cell_type": "code",
   "execution_count": 88,
   "metadata": {
    "collapsed": true
   },
   "outputs": [],
   "source": [
    "def EM_improve(docs,k, tol,max_iter=1000,initial_alpha_shape=5,initial_alpha_scale=2):\n",
    "    \"\"\"\n",
    "    Latent Dirichlet Allocation: M-step.\n",
    "    Do to a list of documnents. -- a list of matrix.\n",
    "    -------------------------------------------------\n",
    "    Input:\n",
    "    docs: a list of one-hot-coding matrix ;\n",
    "    k: a fixed positive integer indicate the number of topics.\n",
    "    -------------------------------------------------\n",
    "    Output:\n",
    "    optimal Nd*k matrix Phi;\n",
    "    optimal k*1 vector gamma;\n",
    "    optimal k*V matrix BETA;\n",
    "    optimal k*1 vector alpha.\n",
    "    \"\"\"\n",
    "    \n",
    "    #get basic iteration\n",
    "    M,V=docs.shape\n",
    "    N=docs.sum(axis=1)\n",
    "\n",
    "    #initialization\n",
    "    BETA0=np.random.dirichlet(np.ones(V),k)\n",
    "    alpha0=np.random.gamma(shape=initial_alpha_shape,scale=initial_alpha_scale,size=k)\n",
    "    GAMMA=np.array([alpha0+N[d]/k for d in range(M)])         \n",
    "    \n",
    "    BETA=BETA0\n",
    "    alpha=alpha0\n",
    "    alpha_dis = 1\n",
    "    beta_dis = 1\n",
    "    \n",
    "    #relative tolerance: tolerance for each element\n",
    "    tol=tol**2\n",
    "    \n",
    "    for iteration in range(max_iter):\n",
    "        #update PHI,GAMMA\n",
    "        Phi=(docs@BETA.T)*np.exp(digamma(GAMMA)-digamma(sum(GAMMA)))\n",
    "        #Phi here is m*k matrix\n",
    "        Phi=Phi/(Phi.sum(axis=1)[:,None]) #row sum to 1\n",
    "        GAMMA=alpha[None,:]+Phi\n",
    "        BETA_=np.zeros((k,V))\n",
    "        for d in range(M): #documents\n",
    "            BETA_ += BETA*np.exp(digamma(GAMMA[d,])-digamma(sum(GAMMA[d,])))[:,None]*docs[d,]\n",
    "        BETA=BETA_/(BETA_.sum(axis=1)[:,None])   #rowsum=1\n",
    "        #update alpha           \n",
    "        z = M * polygamma(1, sum(alpha0))\n",
    "        h=-M*polygamma(1,alpha0)\n",
    "        g=M*(digamma(sum(alpha0))-digamma(alpha0))+(digamma(GAMMA)-digamma(GAMMA.sum(axis=1))[:,None]).sum(axis=0)\n",
    "        c = (sum(g / h)) / (1/z + sum(1/h))\n",
    "        alpha = alpha0 - (g - c)/h\n",
    "        \n",
    "        alpha_dis = np.mean((alpha - alpha0) ** 2)\n",
    "        beta_dis = np.mean((BETA - BETA0) ** 2)\n",
    "        alpha0 = alpha\n",
    "        BETA0 = BETA\n",
    "        if((alpha_dis <= tol) and (beta_dis <= tol)):\n",
    "            break\n",
    "          \n",
    "    return alpha, BETA,Phi,GAMMA"
   ]
  },
  {
   "cell_type": "code",
   "execution_count": 113,
   "metadata": {},
   "outputs": [
    {
     "name": "stdout",
     "output_type": "stream",
     "text": [
      "CPU times: user 25 s, sys: 173 ms, total: 25.2 s\n",
      "Wall time: 24 s\n"
     ]
    }
   ],
   "source": [
    "%%time\n",
    "a2,B2,phi,gamma=EM_improve(docs=docs_mat,k=10, tol=1e-3,max_iter=1000,initial_alpha_shape=2,initial_alpha_scale=1)"
   ]
  },
  {
   "cell_type": "code",
   "execution_count": 114,
   "metadata": {
    "collapsed": true
   },
   "outputs": [],
   "source": [
    "def mmse(alpha,BETA,alpha_est,BETA_est):\n",
    "    alpha_norm=alpha/np.sum(alpha)\n",
    "    beta_mse=np.mean((BETA_est-BETA)**2)\n",
    "    alpha_est_norm=alpha_est/np.sum(alpha_est)\n",
    "    alpha_mse=np.mean((alpha_est_norm-alpha_norm)**2)\n",
    "    return alpha_mse,beta_mse"
   ]
  },
  {
   "cell_type": "code",
   "execution_count": 115,
   "metadata": {},
   "outputs": [
    {
     "data": {
      "text/plain": [
       "(0.01402539413832, 0.00099825513638563974)"
      ]
     },
     "execution_count": 115,
     "metadata": {},
     "output_type": "execute_result"
    }
   ],
   "source": [
    "mmse(alpha=alpha,BETA=BETA,alpha_est=a2,BETA_est=B2)"
   ]
  },
  {
   "cell_type": "code",
   "execution_count": 116,
   "metadata": {},
   "outputs": [
    {
     "name": "stdout",
     "output_type": "stream",
     "text": [
      "CPU times: user 24.2 s, sys: 124 ms, total: 24.3 s\n",
      "Wall time: 23.1 s\n"
     ]
    }
   ],
   "source": [
    "%%time\n",
    "a2,B2,phi,gamma=EM_improve(docs=docs_mat,k=10, tol=1e-3,max_iter=1000,initial_alpha_shape=100,initial_alpha_scale=0.01)"
   ]
  },
  {
   "cell_type": "code",
   "execution_count": 117,
   "metadata": {},
   "outputs": [
    {
     "data": {
      "text/plain": [
       "(0.021968082117301738, 0.00099825513638563974)"
      ]
     },
     "execution_count": 117,
     "metadata": {},
     "output_type": "execute_result"
    }
   ],
   "source": [
    "mmse(alpha=alpha,BETA=BETA,alpha_est=a2,BETA_est=B2)"
   ]
  },
  {
   "cell_type": "code",
   "execution_count": null,
   "metadata": {
    "collapsed": true
   },
   "outputs": [],
   "source": []
  }
 ],
 "metadata": {
  "kernelspec": {
   "display_name": "Python 3",
   "language": "python",
   "name": "python3"
  },
  "language_info": {
   "codemirror_mode": {
    "name": "ipython",
    "version": 3
   },
   "file_extension": ".py",
   "mimetype": "text/x-python",
   "name": "python",
   "nbconvert_exporter": "python",
   "pygments_lexer": "ipython3",
   "version": "3.6.3"
  }
 },
 "nbformat": 4,
 "nbformat_minor": 2
}
