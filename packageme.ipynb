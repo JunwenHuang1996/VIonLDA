{
 "cells": [
  {
   "cell_type": "code",
   "execution_count": 1,
   "metadata": {},
   "outputs": [
    {
     "name": "stdout",
     "output_type": "stream",
     "text": [
      "Requirement already up-to-date: pip in /anaconda3/lib/python3.6/site-packages (10.0.1)\n",
      "Collecting twine\n",
      "  Downloading https://files.pythonhosted.org/packages/65/ae/9cfdff186dd4812c59bad890435538858f13fe43dbe6923e0fb20f0adfc8/twine-1.11.0-py2.py3-none-any.whl\n",
      "Collecting requests-toolbelt>=0.8.0 (from twine)\n",
      "\u001b[?25l  Downloading https://files.pythonhosted.org/packages/97/8a/d710f792d6f6ecc089c5e55b66e66c3f2f35516a1ede5a8f54c13350ffb0/requests_toolbelt-0.8.0-py2.py3-none-any.whl (54kB)\n",
      "\u001b[K    100% |████████████████████████████████| 61kB 4.0MB/s ta 0:00:011\n",
      "\u001b[?25hRequirement already satisfied: requests!=2.15,!=2.16,>=2.5.0 in /anaconda3/lib/python3.6/site-packages (from twine) (2.18.4)\n",
      "Collecting pkginfo>=1.4.2 (from twine)\n",
      "  Downloading https://files.pythonhosted.org/packages/a3/fe/f32a48d48f40a7209be9825fba2566cab92364787cf37de2e08300dd6ce7/pkginfo-1.4.2-py2.py3-none-any.whl\n",
      "Collecting tqdm>=4.14 (from twine)\n",
      "\u001b[?25l  Downloading https://files.pythonhosted.org/packages/7b/05/d95bda5a2d833be7593ac0d7eee502acf70d05a4d3a93ef474691a55c531/tqdm-4.23.2-py2.py3-none-any.whl (42kB)\n",
      "\u001b[K    100% |████████████████████████████████| 51kB 7.2MB/s ta 0:00:011\n",
      "\u001b[?25hRequirement already satisfied: setuptools>=0.7.0 in /anaconda3/lib/python3.6/site-packages (from twine) (36.5.0.post20170921)\n",
      "Requirement already satisfied: chardet<3.1.0,>=3.0.2 in /anaconda3/lib/python3.6/site-packages (from requests!=2.15,!=2.16,>=2.5.0->twine) (3.0.4)\n",
      "Requirement already satisfied: idna<2.7,>=2.5 in /anaconda3/lib/python3.6/site-packages (from requests!=2.15,!=2.16,>=2.5.0->twine) (2.6)\n",
      "Requirement already satisfied: urllib3<1.23,>=1.21.1 in /anaconda3/lib/python3.6/site-packages (from requests!=2.15,!=2.16,>=2.5.0->twine) (1.22)\n",
      "Requirement already satisfied: certifi>=2017.4.17 in /anaconda3/lib/python3.6/site-packages (from requests!=2.15,!=2.16,>=2.5.0->twine) (2017.7.27.1)\n",
      "Installing collected packages: requests-toolbelt, pkginfo, tqdm, twine\n",
      "  Found existing installation: pkginfo 1.4.1\n",
      "    Uninstalling pkginfo-1.4.1:\n",
      "      Successfully uninstalled pkginfo-1.4.1\n",
      "Successfully installed pkginfo-1.4.2 requests-toolbelt-0.8.0 tqdm-4.23.2 twine-1.11.0\n"
     ]
    }
   ],
   "source": [
    "! pip install -U pip\n",
    "! pip install twine"
   ]
  },
  {
   "cell_type": "code",
   "execution_count": 8,
   "metadata": {},
   "outputs": [
    {
     "name": "stdout",
     "output_type": "stream",
     "text": [
      "running sdist\n",
      "running egg_info\n",
      "creating VIonLDA.egg-info\n",
      "writing VIonLDA.egg-info/PKG-INFO\n",
      "writing dependency_links to VIonLDA.egg-info/dependency_links.txt\n",
      "writing top-level names to VIonLDA.egg-info/top_level.txt\n",
      "writing manifest file 'VIonLDA.egg-info/SOURCES.txt'\n",
      "reading manifest file 'VIonLDA.egg-info/SOURCES.txt'\n",
      "reading manifest template 'MANIFEST.in'\n",
      "writing manifest file 'VIonLDA.egg-info/SOURCES.txt'\n",
      "running check\n",
      "creating VIonLDA-2.7\n",
      "creating VIonLDA-2.7/VIonLDA\n",
      "creating VIonLDA-2.7/VIonLDA.egg-info\n",
      "creating VIonLDA-2.7/data\n",
      "copying files to VIonLDA-2.7...\n",
      "copying LICENSE.txt -> VIonLDA-2.7\n",
      "copying MANIFEST.in -> VIonLDA-2.7\n",
      "copying README.md -> VIonLDA-2.7\n",
      "copying setup.cfg -> VIonLDA-2.7\n",
      "copying setup.py -> VIonLDA-2.7\n",
      "copying VIonLDA/__init__.py -> VIonLDA-2.7/VIonLDA\n",
      "copying VIonLDA/ap.txt -> VIonLDA-2.7/VIonLDA\n",
      "copying VIonLDA/lda_main.py -> VIonLDA-2.7/VIonLDA\n",
      "copying VIonLDA/lda_others.py -> VIonLDA-2.7/VIonLDA\n",
      "copying VIonLDA/lda_smoothing.py -> VIonLDA-2.7/VIonLDA\n",
      "copying VIonLDA.egg-info/PKG-INFO -> VIonLDA-2.7/VIonLDA.egg-info\n",
      "copying VIonLDA.egg-info/SOURCES.txt -> VIonLDA-2.7/VIonLDA.egg-info\n",
      "copying VIonLDA.egg-info/dependency_links.txt -> VIonLDA-2.7/VIonLDA.egg-info\n",
      "copying VIonLDA.egg-info/top_level.txt -> VIonLDA-2.7/VIonLDA.egg-info\n",
      "copying data/ap.txt -> VIonLDA-2.7/data\n",
      "Writing VIonLDA-2.7/setup.cfg\n",
      "creating dist\n",
      "Creating tar archive\n",
      "removing 'VIonLDA-2.7' (and everything under it)\n",
      "/Users/yunranchen/GoDuke/18Spring/sta663/663project/663_final_project/Githubme/VIonLDA\n"
     ]
    }
   ],
   "source": [
    "%%bash\n",
    "\n",
    "cd VIonLDA\n",
    "python setup.py sdist\n",
    "cd -"
   ]
  },
  {
   "cell_type": "code",
   "execution_count": null,
   "metadata": {
    "collapsed": true
   },
   "outputs": [],
   "source": [
    "! ls -R VIonLDA"
   ]
  },
  {
   "cell_type": "code",
   "execution_count": 9,
   "metadata": {},
   "outputs": [
    {
     "name": "stdout",
     "output_type": "stream",
     "text": [
      "Uploading distributions to https://test.pypi.org/legacy/\n",
      "Uploading VIonLDA-2.7.tar.gz\n",
      "\r",
      "  0%|          | 0.00/4.20M [00:00<?, ?B/s]\r",
      "  3%|▎         | 136k/4.20M [00:00<00:03, 1.27MB/s]\r",
      " 15%|█▌        | 656k/4.20M [00:00<00:02, 1.64MB/s]\r",
      " 37%|███▋      | 1.54M/4.20M [00:00<00:01, 2.16MB/s]\r",
      " 65%|██████▍   | 2.71M/4.20M [00:00<00:00, 2.86MB/s]\r",
      " 96%|█████████▋| 4.05M/4.20M [00:00<00:00, 3.75MB/s]\r",
      "100%|██████████| 4.20M/4.20M [00:03<00:00, 1.12MB/s]\n"
     ]
    }
   ],
   "source": [
    "%%bash\n",
    "\n",
    "export TWINE_USERNAME='YunranChen' \n",
    "export TWINE_PASSWORD='Cyr199511290023'\n",
    "twine upload --repository-url https://test.pypi.org/legacy/ VIonLDA/dist/*"
   ]
  },
  {
   "cell_type": "code",
   "execution_count": 18,
   "metadata": {},
   "outputs": [
    {
     "name": "stderr",
     "output_type": "stream",
     "text": [
      "\n",
      "Usage:   \n",
      "  pip uninstall [options] <package> ...\n",
      "  pip uninstall [options] -r <requirements file> ...\n",
      "\n",
      "no such option: --index-url\n"
     ]
    }
   ],
   "source": [
    "%%bash\n",
    "\n",
    "pip uninstall --index-url https://test.pypi.org/simple/ VIonLDA"
   ]
  },
  {
   "cell_type": "code",
   "execution_count": 21,
   "metadata": {},
   "outputs": [
    {
     "name": "stdout",
     "output_type": "stream",
     "text": [
      "Looking in indexes: https://test.pypi.org/simple/\n",
      "Collecting VIonLDA\n",
      "Installing collected packages: VIonLDA\n",
      "Successfully installed VIonLDA-2.0\n"
     ]
    }
   ],
   "source": [
    "%%bash\n",
    "\n",
    "pip install -I --index-url https://test.pypi.org/simple/ VIonLDA"
   ]
  },
  {
   "cell_type": "code",
   "execution_count": null,
   "metadata": {
    "collapsed": true
   },
   "outputs": [],
   "source": []
  }
 ],
 "metadata": {
  "kernelspec": {
   "display_name": "Python 3",
   "language": "python",
   "name": "python3"
  },
  "language_info": {
   "codemirror_mode": {
    "name": "ipython",
    "version": 3
   },
   "file_extension": ".py",
   "mimetype": "text/x-python",
   "name": "python",
   "nbconvert_exporter": "python",
   "pygments_lexer": "ipython3",
   "version": "3.6.3"
  }
 },
 "nbformat": 4,
 "nbformat_minor": 2
}
