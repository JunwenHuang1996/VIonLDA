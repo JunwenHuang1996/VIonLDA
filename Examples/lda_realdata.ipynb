{
 "cells": [
  {
   "cell_type": "code",
   "execution_count": 2,
   "metadata": {
    "collapsed": true
   },
   "outputs": [],
   "source": [
    "import numpy as np\n",
    "from scipy.special import digamma, polygamma\n",
    "import time\n",
    "from decimal import Decimal"
   ]
  },
  {
   "cell_type": "markdown",
   "metadata": {},
   "source": [
    "**Load and Preprocess the data**"
   ]
  },
  {
   "cell_type": "code",
   "execution_count": 3,
   "metadata": {
    "collapsed": true
   },
   "outputs": [],
   "source": [
    "f = open('ap.txt', 'r')\n",
    "text = f.readlines()\n",
    "f.close()"
   ]
  },
  {
   "cell_type": "code",
   "execution_count": 4,
   "metadata": {
    "collapsed": true
   },
   "outputs": [],
   "source": [
    "D1 = set([x for x in text if '<DOC>\\n' not in x])\n",
    "D2 = set([x for x in text if '</DOC' not in x])\n",
    "D3 = set([x for x in text if 'TEXT>' not in x])\n",
    "D = list(set.intersection(D1, D2, D3))"
   ]
  },
  {
   "cell_type": "code",
   "execution_count": 5,
   "metadata": {},
   "outputs": [
    {
     "name": "stdout",
     "output_type": "stream",
     "text": [
      "[nltk_data] Downloading package stopwords to /home/jovyan/nltk_data...\n",
      "[nltk_data]   Package stopwords is already up-to-date!\n"
     ]
    }
   ],
   "source": [
    "import toolz as tz\n",
    "import toolz.curried as c\n",
    "import string\n",
    "from nltk.corpus import stopwords\n",
    "import nltk\n",
    "nltk.download('stopwords')\n",
    "import re\n",
    "import pandas as pd\n",
    "import numpy as np"
   ]
  },
  {
   "cell_type": "code",
   "execution_count": 6,
   "metadata": {
    "collapsed": true
   },
   "outputs": [],
   "source": [
    "stops = [\n",
    "    \"a\", \"about\", \"above\", \"across\", \"after\", \"afterwards\", \"again\", \"against\",\n",
    "    \"all\", \"almost\", \"alone\", \"along\", \"already\", \"also\", \"although\", \"always\",\n",
    "    \"am\", \"among\", \"amongst\", \"amoungst\", \"amount\", \"an\", \"and\", \"another\",\n",
    "    \"any\", \"anyhow\", \"anyone\", \"anything\", \"anyway\", \"anywhere\", \"are\",\n",
    "    \"around\", \"as\", \"at\", \"back\", \"be\", \"became\", \"because\", \"become\",\n",
    "    \"becomes\", \"becoming\", \"been\", \"before\", \"beforehand\", \"behind\", \"being\",\n",
    "    \"below\", \"beside\", \"besides\", \"between\", \"beyond\", \"bill\", \"both\",\n",
    "    \"bottom\", \"but\", \"by\", \"call\", \"can\", \"cannot\", \"cant\", \"co\", \"con\",\n",
    "    \"could\", \"couldnt\", \"cry\", \"de\", \"describe\", \"detail\", \"do\", \"done\",\n",
    "    \"down\", \"due\", \"during\", \"each\", \"eg\", \"eight\", \"either\", \"eleven\", \"else\",\n",
    "    \"elsewhere\", \"empty\", \"enough\", \"etc\", \"even\", \"ever\", \"every\", \"everyone\",\n",
    "    \"everything\", \"everywhere\", \"except\", \"few\", \"fifteen\", \"fifty\", \"fill\",\n",
    "    \"find\", \"fire\", \"first\", \"five\", \"for\", \"former\", \"formerly\", \"forty\",\n",
    "    \"found\", \"four\", \"from\", \"front\", \"full\", \"further\", \"get\", \"give\", \"go\",\n",
    "    \"had\", \"has\", \"hasnt\", \"have\", \"he\", \"hence\", \"her\", \"here\", \"hereafter\",\n",
    "    \"hereby\", \"herein\", \"hereupon\", \"hers\", \"herself\", \"him\", \"himself\", \"his\",\n",
    "    \"how\", \"however\", \"hundred\", \"i\", \"ie\", \"if\", \"in\", \"inc\", \"indeed\",\n",
    "    \"interest\", \"into\", \"is\", \"it\", \"its\", \"itself\", \"keep\", \"last\", \"latter\",\n",
    "    \"latterly\", \"least\", \"less\", \"ltd\", \"made\", \"many\", \"may\", \"me\",\n",
    "    \"meanwhile\", \"might\", \"mill\", \"mine\", \"more\", \"moreover\", \"most\", \"mostly\",\n",
    "    \"move\", \"much\", \"must\", \"my\", \"myself\", \"name\", \"namely\", \"neither\",\n",
    "    \"never\", \"nevertheless\", \"next\", \"nine\", \"no\", \"nobody\", \"none\", \"noone\",\n",
    "    \"nor\", \"not\", \"nothing\", \"now\", \"nowhere\", \"of\", \"off\", \"often\", \"on\",\n",
    "    \"once\", \"one\", \"only\", \"onto\", \"or\", \"other\", \"others\", \"otherwise\", \"our\",\n",
    "    \"ours\", \"ourselves\", \"out\", \"over\", \"own\", \"part\", \"per\", \"perhaps\",\n",
    "    \"please\", \"put\", \"rather\", \"re\", \"same\", \"see\", \"seem\", \"seemed\",\n",
    "    \"seeming\", \"seems\", \"serious\", \"several\", \"she\", \"should\", \"show\", \"side\",\n",
    "    \"since\", \"sincere\", \"six\", \"sixty\", \"so\", \"some\", \"somehow\", \"someone\",\n",
    "    \"something\", \"sometime\", \"sometimes\", \"somewhere\", \"still\", \"such\",\n",
    "    \"system\", \"take\", \"ten\", \"than\", \"that\", \"the\", \"their\", \"them\",\n",
    "    \"themselves\", \"then\", \"thence\", \"there\", \"thereafter\", \"thereby\",\n",
    "    \"therefore\", \"therein\", \"thereupon\", \"these\", \"they\", \"thick\", \"thin\",\n",
    "    \"third\", \"this\", \"those\", \"though\", \"three\", \"through\", \"throughout\",\n",
    "    \"thru\", \"thus\", \"to\", \"together\", \"too\", \"top\", \"toward\", \"towards\",\n",
    "    \"twelve\", \"twenty\", \"two\", \"un\", \"under\", \"until\", \"up\", \"upon\", \"us\",\n",
    "    \"very\", \"via\", \"was\", \"we\", \"well\", \"were\", \"what\", \"whatever\", \"when\",\n",
    "    \"whence\", \"whenever\", \"where\", \"whereafter\", \"whereas\", \"whereby\",\n",
    "    \"wherein\", \"whereupon\", \"wherever\", \"whether\", \"which\", \"while\", \"whither\",\n",
    "    \"who\", \"whoever\", \"whole\", \"whom\", \"whose\", \"why\", \"will\", \"with\",\n",
    "    \"within\", \"without\", \"would\", \"yet\", \"you\", \"your\", \"yours\", \"yourself\",\n",
    "    \"yourselves\"]"
   ]
  },
  {
   "cell_type": "code",
   "execution_count": 7,
   "metadata": {
    "collapsed": true
   },
   "outputs": [],
   "source": [
    "d = tz.pipe(\n",
    "    D,\n",
    "    c.map(lambda x: x.strip()),\n",
    "    c.map(lambda x: x.lower()),\n",
    "    c.map(lambda x: x.translate(str.maketrans('', '', string.punctuation))),\n",
    "    c.map(lambda x: re.sub('[0-9]+', '', x)),\n",
    "    c.map(lambda x: x.split()),\n",
    "    c.map(lambda x: [word for word in x if word not in stops]),\n",
    "    list\n",
    ")"
   ]
  },
  {
   "cell_type": "code",
   "execution_count": 8,
   "metadata": {
    "collapsed": true
   },
   "outputs": [],
   "source": [
    "d_sub = d[:500]"
   ]
  },
  {
   "cell_type": "code",
   "execution_count": 9,
   "metadata": {
    "collapsed": true
   },
   "outputs": [],
   "source": [
    "tf = {id: tz.frequencies(doc) for id, doc in enumerate(d_sub)}\n",
    "df = pd.DataFrame(tf).fillna(0)\n",
    "words = df.index"
   ]
  },
  {
   "cell_type": "code",
   "execution_count": 10,
   "metadata": {
    "collapsed": true
   },
   "outputs": [],
   "source": [
    "ds = df.values.T\n",
    "ds = ds.astype(int)"
   ]
  },
  {
   "cell_type": "code",
   "execution_count": 11,
   "metadata": {
    "collapsed": true
   },
   "outputs": [],
   "source": [
    "def DataTrans(x):\n",
    "    \"\"\"Turn the data into the desired structure\"\"\"\n",
    "    \n",
    "    N_d = np.count_nonzero(x)\n",
    "    V = len(x)\n",
    "    \n",
    "    row = 0\n",
    "    \n",
    "    doc = np.zeros((N_d, V))\n",
    "    for i in range(V):\n",
    "        if x[i] == 0:\n",
    "            pass\n",
    "        else:\n",
    "            doc[row, i] = x[i]\n",
    "            row += 1\n",
    "    \n",
    "    return doc"
   ]
  },
  {
   "cell_type": "code",
   "execution_count": 12,
   "metadata": {
    "collapsed": true
   },
   "outputs": [],
   "source": [
    "docs = list(map(DataTrans, ds))"
   ]
  },
  {
   "cell_type": "markdown",
   "metadata": {},
   "source": [
    "**Use the package**"
   ]
  },
  {
   "cell_type": "code",
   "execution_count": null,
   "metadata": {},
   "outputs": [],
   "source": [
    "from VIonLDA import *"
   ]
  },
  {
   "cell_type": "code",
   "execution_count": 15,
   "metadata": {
    "collapsed": true
   },
   "outputs": [],
   "source": [
    "a, B = M_step_Realdata(docs=docs,k=10,tol=1e-3,tol_estep=1e-3,max_iter=100,initial_alpha_shape=100,initial_alpha_scale=0.01)"
   ]
  },
  {
   "cell_type": "code",
   "execution_count": 44,
   "metadata": {
    "collapsed": true
   },
   "outputs": [],
   "source": [
    "import heapq"
   ]
  },
  {
   "cell_type": "code",
   "execution_count": 45,
   "metadata": {
    "collapsed": true
   },
   "outputs": [],
   "source": [
    "def find_index(x):\n",
    "    \"\"\"find the index of the largest 10 values in a list\"\"\"\n",
    "    \n",
    "    x = x.tolist()\n",
    "    max_values = heapq.nlargest(50, x)\n",
    "    index = [0] * 50\n",
    "    for i in range(50):\n",
    "        index[i] = x.index(max_values[i])\n",
    "    \n",
    "    return index"
   ]
  },
  {
   "cell_type": "code",
   "execution_count": 46,
   "metadata": {
    "collapsed": true,
    "scrolled": true
   },
   "outputs": [],
   "source": [
    "rep_words_index = list(map(find_index, B))"
   ]
  },
  {
   "cell_type": "code",
   "execution_count": 47,
   "metadata": {},
   "outputs": [
    {
     "data": {
      "text/plain": [
       "Index(['said', 'percent', 'million', 'year', 'new', 'market', 'stock',\n",
       "       'prices', 'billion', 'rose', 'orders', 'economy', 'index', 'rate',\n",
       "       'bank', 's', 'oil', 'business', 'increase', 'tuesday', 'rates',\n",
       "       'economic', 'time', 'month', 'shares', 'analysts', 'record', 'average',\n",
       "       'american', 'york', 'exchange', 'government', 'share', 'trade',\n",
       "       'company', 'north', 'high', 'sales', 'stocks', 'report', 'reported',\n",
       "       'soviet', 'cents', 'earlier', 'week', 'months', 'monday', 'expected',\n",
       "       'decline', 'deficit'],\n",
       "      dtype='object')"
      ]
     },
     "execution_count": 47,
     "metadata": {},
     "output_type": "execute_result"
    }
   ],
   "source": [
    "words[rep_words_index[0]]"
   ]
  },
  {
   "cell_type": "code",
   "execution_count": 48,
   "metadata": {},
   "outputs": [
    {
     "data": {
      "text/plain": [
       "Index(['said', 'percent', 'billion', 'law', 'year', 'united', 'states', 'drug',\n",
       "       'million', 'court', 'years', 'offer', 'federal', 'women', 'rights',\n",
       "       'committee', 'told', 'house', 'prison', 'say', 'people', 'debt',\n",
       "       'health', 'american', 'new', 'state', 'public', 'administration',\n",
       "       'report', 'workers', 'government', 'case', 'foreign', 'congress',\n",
       "       'measure', 'legislation', 'decision', 'president', 'attorney',\n",
       "       'abortion', 'stock', 'office', 'senate', 'department', 'legal', 'think',\n",
       "       'issue', 'program', 'time', 'supreme'],\n",
       "      dtype='object')"
      ]
     },
     "execution_count": 48,
     "metadata": {},
     "output_type": "execute_result"
    }
   ],
   "source": [
    "words[rep_words_index[1]]"
   ]
  },
  {
   "cell_type": "code",
   "execution_count": 49,
   "metadata": {},
   "outputs": [
    {
     "data": {
      "text/plain": [
       "Index(['said', 'president', 'united', 'government', 'program', 'agreement',\n",
       "       'soviet', 'aid', 'south', 'american', 'foreign', 'states', 'house',\n",
       "       'million', 'officials', 'talks', 'negotiations', 'monday', 'minister',\n",
       "       'economic', 'year', 'summit', 'trade', 'official', 'senate', 'military',\n",
       "       'told', 'billion', 'new', 'administration', 'secretary', 'sen',\n",
       "       'people', 'time', 'plan', 'week', 'congress', 'end', 'iraq', 'release',\n",
       "       'agency', 'iran', 'navy', 'peace', 'statement', 'eastern', 'thats',\n",
       "       'years', 'conference', 'plant'],\n",
       "      dtype='object')"
      ]
     },
     "execution_count": 49,
     "metadata": {},
     "output_type": "execute_result"
    }
   ],
   "source": [
    "words[rep_words_index[2]]"
   ]
  },
  {
   "cell_type": "code",
   "execution_count": 50,
   "metadata": {},
   "outputs": [
    {
     "data": {
      "text/plain": [
       "Index(['said', 'west', 'dollar', 'new', 'late', 'german', 'east', 'fair',\n",
       "       'soviet', 'bid', 'years', 'officials', 'bank', 'today', 'yen', 'london',\n",
       "       'million', 'trust', 'gold', 'government', 'tuesday', 'editor',\n",
       "       'thursday', 'cloudy', 'germany', 'federal', 'york', 'ap', 'party',\n",
       "       'snow', 'monday', 'north', 'friday', 'people', 'price', 'year',\n",
       "       'claims', 'fell', 'major', 'spokesman', 'later', 'home', 'news',\n",
       "       'manville', 'ounce', 'percent', 'compared', 'central', 'ms', 'board'],\n",
       "      dtype='object')"
      ]
     },
     "execution_count": 50,
     "metadata": {},
     "output_type": "execute_result"
    }
   ],
   "source": [
    "words[rep_words_index[3]]"
   ]
  },
  {
   "cell_type": "code",
   "execution_count": 51,
   "metadata": {
    "scrolled": true
   },
   "outputs": [
    {
     "data": {
      "text/plain": [
       "Index(['said', 'dukakis', 'new', 'bush', 'president', 'campaign', 'state',\n",
       "       'democratic', 'national', 'republican', 'presidential', 'convention',\n",
       "       'york', 'years', 'senate', 'vice', 'states', 'democrats', 'year',\n",
       "       'people', 'week', 'going', 'home', 'think', 'george', 'support', 'sen',\n",
       "       'candidate', 'nomination', 'governor', 'party', 'bentsen',\n",
       "       'administration', 'force', 'chairman', 'court', 'race', 'primary',\n",
       "       'vote', 'work', 'conservative', 'way', 'million', 'report', 'reagan',\n",
       "       'running', 'tuesday', 'michael', 'dont', 'cbs'],\n",
       "      dtype='object')"
      ]
     },
     "execution_count": 51,
     "metadata": {},
     "output_type": "execute_result"
    }
   ],
   "source": [
    "words[rep_words_index[4]]"
   ]
  },
  {
   "cell_type": "code",
   "execution_count": 52,
   "metadata": {},
   "outputs": [
    {
     "data": {
      "text/plain": [
       "Index(['said', 'police', 'people', 'hospital', 'children', 'officials', 'area',\n",
       "       'man', 'years', 'friday', 'family', 'new', 'state', 'killed', 'yearold',\n",
       "       'night', 'authorities', 'did', 'parents', 'sunday', 'city', 'service',\n",
       "       'time', 'miles', 'told', 'office', 'saturday', 'victims', 'news',\n",
       "       'reported', 'center', 'building', 'county', 'school', 'like',\n",
       "       'president', 'arrested', 'say', 'million', 'year', 'today', 'asked',\n",
       "       'death', 'ms', 'hotel', 'thought', 'homeless', 'angeles', 'church',\n",
       "       'way'],\n",
       "      dtype='object')"
      ]
     },
     "execution_count": 52,
     "metadata": {},
     "output_type": "execute_result"
    }
   ],
   "source": [
    "words[rep_words_index[5]]"
   ]
  },
  {
   "cell_type": "code",
   "execution_count": 53,
   "metadata": {},
   "outputs": [
    {
     "data": {
      "text/plain": [
       "Index(['said', 'new', 'years', 'state', 'people', 'sand', 'says', 'east',\n",
       "       'rating', 'hunt', 'time', 'west', 'breast', 'dont', 'country', 'just',\n",
       "       'cancer', 'art', 'fish', 'hubbert', 'political', 'red', 'president',\n",
       "       'summer', 'play', 'group', 'like', 'north', 'problems', 'second',\n",
       "       'days', 'use', 'heat', 'including', 'device', 'chemical', 'year',\n",
       "       'good', 'japanese', 'area', 'percent', 'agency', 'day', 'campaign',\n",
       "       'world', 'economic', 'french', 'want', 'ago', 'early'],\n",
       "      dtype='object')"
      ]
     },
     "execution_count": 53,
     "metadata": {},
     "output_type": "execute_result"
    }
   ],
   "source": [
    "words[rep_words_index[6]]"
   ]
  },
  {
   "cell_type": "code",
   "execution_count": 54,
   "metadata": {},
   "outputs": [
    {
     "data": {
      "text/plain": [
       "Index(['said', 'people', 'government', 'million', 'years', 'president', 'year',\n",
       "       'company', 'soviet', 'barry', 'black', 'milken', 'gorbachev',\n",
       "       'thursday', 'state', 'dont', 'south', 'new', 'corp', 'make', 'chairman',\n",
       "       'court', 'city', 'group', 'think', 'independence', 'billion', 'united',\n",
       "       'agreement', 'news', 'africa', 'federal', 'told', 'drexel', 'agreed',\n",
       "       'monday', 'time', 'friday', 'union', 'officials', 'spokesman',\n",
       "       'macmillan', 'chief', 'wednesday', 'power', 'board', 'white', 'trial',\n",
       "       'police', 'like'],\n",
       "      dtype='object')"
      ]
     },
     "execution_count": 54,
     "metadata": {},
     "output_type": "execute_result"
    }
   ],
   "source": [
    "words[rep_words_index[7]]"
   ]
  },
  {
   "cell_type": "code",
   "execution_count": 55,
   "metadata": {},
   "outputs": [
    {
     "data": {
      "text/plain": [
       "Index(['said', 'bush', 'new', 'people', 'president', 'air', 'million', 'state',\n",
       "       'government', 'political', 'systems', 'federal', 'water', 'going',\n",
       "       'national', 'nations', 'way', 'energy', 'states', 'billion', 'called',\n",
       "       'presidential', 'administration', 'years', 'city', 'percent', 'public',\n",
       "       'foreign', 'year', 'congress', 'general', 'american', 'officials',\n",
       "       'black', 'time', 'help', 'community', 'election', 'venus', 'director',\n",
       "       'court', 'council', 'judge', 'program', 'rights', 'security',\n",
       "       'campaign', 'group', 'told', 'country'],\n",
       "      dtype='object')"
      ]
     },
     "execution_count": 55,
     "metadata": {},
     "output_type": "execute_result"
    }
   ],
   "source": [
    "words[rep_words_index[8]]"
   ]
  },
  {
   "cell_type": "code",
   "execution_count": 56,
   "metadata": {},
   "outputs": [
    {
     "data": {
      "text/plain": [
       "Index(['said', 'government', 'police', 'people', 'court', 'case', 'military',\n",
       "       'trial', 'president', 'year', 'day', 'party', 'charges', 'national',\n",
       "       'death', 'years', 'new', 'today', 'officials', 'told', 'defense',\n",
       "       'friday', 'john', 'killed', 'attorney', 'documents', 'army',\n",
       "       'gorbachev', 'conference', 'soldiers', 'demjanjuk', 'judge', 'time',\n",
       "       'leaders', 'soviet', 'convicted', 'million', 'moscow', 'committee',\n",
       "       'charged', 'force', 'yearold', 'spokesman', 'federal', 'thursday',\n",
       "       'security', 'monday', 'accused', 'men', 'minister'],\n",
       "      dtype='object')"
      ]
     },
     "execution_count": 56,
     "metadata": {},
     "output_type": "execute_result"
    }
   ],
   "source": [
    "words[rep_words_index[9]]"
   ]
  }
 ],
 "metadata": {
  "kernelspec": {
   "display_name": "Python 3",
   "language": "python",
   "name": "python3"
  },
  "language_info": {
   "codemirror_mode": {
    "name": "ipython",
    "version": 3
   },
   "file_extension": ".py",
   "mimetype": "text/x-python",
   "name": "python",
   "nbconvert_exporter": "python",
   "pygments_lexer": "ipython3",
   "version": "3.6.5"
  }
 },
 "nbformat": 4,
 "nbformat_minor": 2
}
